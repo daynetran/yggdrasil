{
 "cells": [
  {
   "cell_type": "code",
   "execution_count": 328,
   "metadata": {},
   "outputs": [],
   "source": [
    "import numpy as np\n",
    "import scipy as sp\n",
    "from scipy import io\n",
    "from scipy import stats\n",
    "import pandas as pd\n",
    "from sklearn.metrics import accuracy_score"
   ]
  },
  {
   "cell_type": "code",
   "execution_count": 329,
   "metadata": {},
   "outputs": [],
   "source": [
    "wine = io.loadmat(\"data_wine.mat\")"
   ]
  },
  {
   "cell_type": "code",
   "execution_count": 330,
   "metadata": {},
   "outputs": [],
   "source": [
    "# separate into training data, training labels, and testing data\n",
    "wine_raw_training_data = wine[\"X\"] \n",
    "wine_training_labels = wine[\"y\"]\n",
    "wine_test_data = wine[\"X_test\"]\n",
    "wine_descriptions = wine[\"description\"]\n",
    "\n",
    "wine_tuples = np.append(wine_raw_training_data, wine_training_labels, axis=1)\n",
    "wine_tuples_shuffled = np.random.permutation(wine_tuples)\n",
    "\n",
    "# In order to partition our data, we will use pandas; we will convert our numpy array into a temporary \n",
    "# dataframe and set aside the first 10,000 shuffled tuples, which will then be separated back into\n",
    "# training data and training labels, to the validation set. Then we will assign the remainder, again \n",
    "# separating the training data and training labels to the training set.\n",
    "\n",
    "wine_validation_data = wine_tuples_shuffled[0:500, 0:-1]\n",
    "wine_validation_labels = wine_tuples_shuffled[0:500, -1]\n",
    "wine_training_data = wine_tuples_shuffled[500:, 0:-1]\n",
    "wine_training_labels = wine_tuples_shuffled[500:, -1]\n",
    "\n",
    "# Standardize Data By Feature and Add Fictitious Dimension\n",
    "training_features_means = np.mean(wine_training_data, axis=0)\n",
    "training_features_sd = np.std(wine_training_data, axis=0)\n",
    "wine_standardized_training_data = (wine_training_data - training_features_means) / training_features_sd\n",
    "wine_cleaned_training_data = np.hstack((wine_standardized_training_data, np.ones((wine_standardized_training_data.shape[0],1))))"
   ]
  },
  {
   "cell_type": "code",
   "execution_count": 327,
   "metadata": {},
   "outputs": [],
   "source": [
    "def calculate_cost(w):\n",
    "    sigmoid = sp.special.expit(wine_cleaned_training_data@w) # 1 / (1 + e^(-Xw))\n",
    "    # print(wine_training_labels.shape, sigmoid.shape)\n",
    "\n",
    "    # - y . ln(s)\n",
    "    first_component = -1 * np.dot(wine_training_labels, np.log(sigmoid)) # -y . ln(s)\n",
    "    # print(first_component.shape)\n",
    "\n",
    "    # - (1-y) . ln(1-s)\n",
    "    second_component_sub_a = np.ones((wine_cleaned_training_data.shape[0], 1)).reshape(-1) - wine_training_labels # 1-y\n",
    "    second_component_sub_b = np.ones((wine_cleaned_training_data.shape[0], 1)).reshape(-1) - sigmoid #  1-s\n",
    "    second_component = -1 * np.dot(second_component_sub_a, np.log(second_component_sub_b)) # -(1-y) . ln(1-s)\n",
    "    \n",
    "    # - y . ln(s) - (1-y) . ln(1-s)\n",
    "    return (first_component + second_component)"
   ]
  },
  {
   "cell_type": "code",
   "execution_count": 312,
   "metadata": {},
   "outputs": [
    {
     "data": {
      "text/plain": [
       "inf"
      ]
     },
     "execution_count": 312,
     "metadata": {},
     "output_type": "execute_result"
    }
   ],
   "source": [
    "starting_weights = np.ones((wine_cleaned_training_data.shape[1],1)).reshape(-1)\n",
    "calculate_cost(starting_weights)"
   ]
  },
  {
   "cell_type": "code",
   "execution_count": 313,
   "metadata": {},
   "outputs": [
    {
     "data": {
      "text/plain": [
       "(5500,)"
      ]
     },
     "execution_count": 313,
     "metadata": {},
     "output_type": "execute_result"
    }
   ],
   "source": [
    "wine_training_labels.shape"
   ]
  },
  {
   "cell_type": "code",
   "execution_count": 314,
   "metadata": {},
   "outputs": [],
   "source": [
    "def descend(alpha, num_iters, l2, w_0):\n",
    "    # 1. Solve d(cost)/dw = X.T @ (s(X@w) - y) + 2 \\lambda w\n",
    "    # 2. w_i = w_i - alpha * d(cost)/dw_i for all i in w\n",
    "    # 3. Repeat until converges\n",
    "\n",
    "    w_i = w_0\n",
    "    i = 0\n",
    "    gradient = 3\n",
    "    while i < num_iters:\n",
    "        residual = sp.special.expit(wine_cleaned_training_data @ w_i) - wine_training_labels\n",
    "        gradient = (wine_cleaned_training_data.T @ (residual)) + (2 * l2 * w_i).reshape(-1)\n",
    "        w_i = (w_i - alpha * gradient).reshape(-1)\n",
    "        i += 1\n",
    "    return gradient, w_i\n"
   ]
  },
  {
   "cell_type": "code",
   "execution_count": 315,
   "metadata": {},
   "outputs": [
    {
     "data": {
      "text/plain": [
       "(5500,)"
      ]
     },
     "execution_count": 315,
     "metadata": {},
     "output_type": "execute_result"
    }
   ],
   "source": [
    "wine_training_labels.shape"
   ]
  },
  {
   "cell_type": "code",
   "execution_count": 316,
   "metadata": {},
   "outputs": [],
   "source": [
    "results = descend(0.25, 100, 0, starting_weights)"
   ]
  },
  {
   "cell_type": "code",
   "execution_count": 317,
   "metadata": {},
   "outputs": [
    {
     "data": {
      "text/plain": [
       "array([1., 1., 1., 1., 1., 1., 1., 1., 1., 1., 1., 1., 1.])"
      ]
     },
     "execution_count": 317,
     "metadata": {},
     "output_type": "execute_result"
    }
   ],
   "source": [
    "starting_weights"
   ]
  },
  {
   "cell_type": "code",
   "execution_count": 318,
   "metadata": {},
   "outputs": [
    {
     "data": {
      "text/plain": [
       "array([  6.57855633,   9.24352281,   0.33123347,   5.49422308,\n",
       "         5.18912646,  -3.21147819,  -9.57187467,   7.95172059,\n",
       "         2.78328558,   3.39736926,  -0.68461642,   2.76838111,\n",
       "       -15.54349074])"
      ]
     },
     "execution_count": 318,
     "metadata": {},
     "output_type": "execute_result"
    }
   ],
   "source": [
    "results[0]"
   ]
  },
  {
   "cell_type": "code",
   "execution_count": 319,
   "metadata": {},
   "outputs": [
    {
     "data": {
      "text/plain": [
       "array([  28.77860516,   96.86774856,   22.04909833, -220.32460115,\n",
       "         60.47998537,   34.30610675, -149.19463644,  176.89491911,\n",
       "         53.32440791,   37.08852471,   67.36845936,   23.07408291,\n",
       "       -305.30347542])"
      ]
     },
     "execution_count": 319,
     "metadata": {},
     "output_type": "execute_result"
    }
   ],
   "source": [
    "results[1]"
   ]
  },
  {
   "cell_type": "code",
   "execution_count": 320,
   "metadata": {},
   "outputs": [
    {
     "data": {
      "text/plain": [
       "nan"
      ]
     },
     "execution_count": 320,
     "metadata": {},
     "output_type": "execute_result"
    }
   ],
   "source": [
    "calculate_cost(results[1])"
   ]
  },
  {
   "cell_type": "code",
   "execution_count": 326,
   "metadata": {},
   "outputs": [
    {
     "data": {
      "text/plain": [
       "0.008545454545454545"
      ]
     },
     "execution_count": 326,
     "metadata": {},
     "output_type": "execute_result"
    }
   ],
   "source": [
    "sum(np.round(sp.special.expit(wine_cleaned_training_data@results[1])) != wine_training_labels)/len(wine_training_labels)"
   ]
  },
  {
   "cell_type": "code",
   "execution_count": 323,
   "metadata": {},
   "outputs": [
    {
     "name": "stdout",
     "output_type": "stream",
     "text": [
      "[0.         0.69314718 1.09861229 1.38629436 1.60943791]\n",
      "(5,)\n",
      "(5,)\n"
     ]
    },
    {
     "data": {
      "text/plain": [
       "130"
      ]
     },
     "execution_count": 323,
     "metadata": {},
     "output_type": "execute_result"
    }
   ],
   "source": [
    "t1 = np.array([1,2,3,4,5])\n",
    "print(np.log(t1))\n",
    "print(t1.shape)\n",
    "t2 = np.array([6,7,8,9,10])\n",
    "print(t2.shape)\n",
    "np.dot(t1,t2)"
   ]
  },
  {
   "cell_type": "code",
   "execution_count": 324,
   "metadata": {},
   "outputs": [
    {
     "ename": "AttributeError",
     "evalue": "'numpy.ndarray' object has no attribute 'shap'",
     "output_type": "error",
     "traceback": [
      "\u001b[0;31m---------------------------------------------------------------------------\u001b[0m",
      "\u001b[0;31mAttributeError\u001b[0m                            Traceback (most recent call last)",
      "Input \u001b[0;32mIn [324]\u001b[0m, in \u001b[0;36m<module>\u001b[0;34m\u001b[0m\n\u001b[0;32m----> 1\u001b[0m \u001b[43mwine_training_labels\u001b[49m\u001b[38;5;241;43m.\u001b[39;49m\u001b[43mreshape\u001b[49m\u001b[43m(\u001b[49m\u001b[38;5;241;43m-\u001b[39;49m\u001b[38;5;241;43m1\u001b[39;49m\u001b[43m,\u001b[49m\u001b[43m \u001b[49m\u001b[38;5;241;43m1\u001b[39;49m\u001b[43m)\u001b[49m\u001b[38;5;241;43m.\u001b[39;49m\u001b[43mshap\u001b[49m\n",
      "\u001b[0;31mAttributeError\u001b[0m: 'numpy.ndarray' object has no attribute 'shap'"
     ]
    }
   ],
   "source": [
    "wine_training_labels.reshape(-1, 1).shap"
   ]
  },
  {
   "cell_type": "code",
   "execution_count": null,
   "metadata": {},
   "outputs": [
    {
     "data": {
      "text/plain": [
       "array([[32]])"
      ]
     },
     "execution_count": 91,
     "metadata": {},
     "output_type": "execute_result"
    }
   ],
   "source": [
    "trial = np.array([1,2,3]).reshape(-1,1)\n",
    "trial2 = np.array([4,5,6]).reshape(-1,1)\n",
    "trial.T @ trial2"
   ]
  },
  {
   "cell_type": "code",
   "execution_count": null,
   "metadata": {},
   "outputs": [
    {
     "name": "stdout",
     "output_type": "stream",
     "text": [
      "\u001b[0;31mDocstring:\u001b[0m\n",
      "dot(a, b, out=None)\n",
      "\n",
      "Dot product of two arrays. Specifically,\n",
      "\n",
      "- If both `a` and `b` are 1-D arrays, it is inner product of vectors\n",
      "  (without complex conjugation).\n",
      "\n",
      "- If both `a` and `b` are 2-D arrays, it is matrix multiplication,\n",
      "  but using :func:`matmul` or ``a @ b`` is preferred.\n",
      "\n",
      "- If either `a` or `b` is 0-D (scalar), it is equivalent to :func:`multiply`\n",
      "  and using ``numpy.multiply(a, b)`` or ``a * b`` is preferred.\n",
      "\n",
      "- If `a` is an N-D array and `b` is a 1-D array, it is a sum product over\n",
      "  the last axis of `a` and `b`.\n",
      "\n",
      "- If `a` is an N-D array and `b` is an M-D array (where ``M>=2``), it is a\n",
      "  sum product over the last axis of `a` and the second-to-last axis of `b`::\n",
      "\n",
      "    dot(a, b)[i,j,k,m] = sum(a[i,j,:] * b[k,:,m])\n",
      "\n",
      "Parameters\n",
      "----------\n",
      "a : array_like\n",
      "    First argument.\n",
      "b : array_like\n",
      "    Second argument.\n",
      "out : ndarray, optional\n",
      "    Output argument. This must have the exact kind that would be returned\n",
      "    if it was not used. In particular, it must have the right type, must be\n",
      "    C-contiguous, and its dtype must be the dtype that would be returned\n",
      "    for `dot(a,b)`. This is a performance feature. Therefore, if these\n",
      "    conditions are not met, an exception is raised, instead of attempting\n",
      "    to be flexible.\n",
      "\n",
      "Returns\n",
      "-------\n",
      "output : ndarray\n",
      "    Returns the dot product of `a` and `b`.  If `a` and `b` are both\n",
      "    scalars or both 1-D arrays then a scalar is returned; otherwise\n",
      "    an array is returned.\n",
      "    If `out` is given, then it is returned.\n",
      "\n",
      "Raises\n",
      "------\n",
      "ValueError\n",
      "    If the last dimension of `a` is not the same size as\n",
      "    the second-to-last dimension of `b`.\n",
      "\n",
      "See Also\n",
      "--------\n",
      "vdot : Complex-conjugating dot product.\n",
      "tensordot : Sum products over arbitrary axes.\n",
      "einsum : Einstein summation convention.\n",
      "matmul : '@' operator as method with out parameter.\n",
      "linalg.multi_dot : Chained dot product.\n",
      "\n",
      "Examples\n",
      "--------\n",
      ">>> np.dot(3, 4)\n",
      "12\n",
      "\n",
      "Neither argument is complex-conjugated:\n",
      "\n",
      ">>> np.dot([2j, 3j], [2j, 3j])\n",
      "(-13+0j)\n",
      "\n",
      "For 2-D arrays it is the matrix product:\n",
      "\n",
      ">>> a = [[1, 0], [0, 1]]\n",
      ">>> b = [[4, 1], [2, 2]]\n",
      ">>> np.dot(a, b)\n",
      "array([[4, 1],\n",
      "       [2, 2]])\n",
      "\n",
      ">>> a = np.arange(3*4*5*6).reshape((3,4,5,6))\n",
      ">>> b = np.arange(3*4*5*6)[::-1].reshape((5,4,6,3))\n",
      ">>> np.dot(a, b)[2,3,2,1,2,2]\n",
      "499128\n",
      ">>> sum(a[2,3,2,:] * b[1,2,:,2])\n",
      "499128\n",
      "\u001b[0;31mType:\u001b[0m      function\n"
     ]
    }
   ],
   "source": [
    "np.dot??"
   ]
  },
  {
   "cell_type": "code",
   "execution_count": null,
   "metadata": {},
   "outputs": [
    {
     "data": {
      "text/plain": [
       "array([[1],\n",
       "       [2],\n",
       "       [3]])"
      ]
     },
     "execution_count": 57,
     "metadata": {},
     "output_type": "execute_result"
    }
   ],
   "source": [
    "trial.reshape(-1,1)"
   ]
  },
  {
   "cell_type": "code",
   "execution_count": null,
   "metadata": {},
   "outputs": [],
   "source": []
  }
 ],
 "metadata": {
  "interpreter": {
   "hash": "a7e21bd2c782844b3a6a09dcd870bc8135ee8c8685a6c615b92ce68add8df772"
  },
  "kernelspec": {
   "display_name": "Python 3.8.10 ('189env')",
   "language": "python",
   "name": "python3"
  },
  "language_info": {
   "codemirror_mode": {
    "name": "ipython",
    "version": 3
   },
   "file_extension": ".py",
   "mimetype": "text/x-python",
   "name": "python",
   "nbconvert_exporter": "python",
   "pygments_lexer": "ipython3",
   "version": "3.8.10"
  },
  "orig_nbformat": 4
 },
 "nbformat": 4,
 "nbformat_minor": 2
}
