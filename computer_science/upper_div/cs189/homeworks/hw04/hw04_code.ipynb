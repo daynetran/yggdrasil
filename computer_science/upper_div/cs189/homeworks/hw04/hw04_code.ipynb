{
 "cells": [
  {
   "cell_type": "code",
   "execution_count": 393,
   "metadata": {},
   "outputs": [],
   "source": [
    "import numpy as np\n",
    "import scipy as sp\n",
    "from scipy import io\n",
    "from scipy import stats\n",
    "import pandas as pd\n",
    "from sklearn.metrics import accuracy_score\n",
    "import matplotlib.pyplot as plt\n",
    "\n",
    "from numpy.random import MT19937\n",
    "from numpy.random import RandomState, SeedSequence\n",
    "\n"
   ]
  },
  {
   "cell_type": "markdown",
   "metadata": {},
   "source": [
    "### **3. Wine Classification with Logistic Regression**"
   ]
  },
  {
   "cell_type": "markdown",
   "metadata": {},
   "source": []
  },
  {
   "cell_type": "code",
   "execution_count": 394,
   "metadata": {},
   "outputs": [],
   "source": [
    "# set random state to replicate random paritioning of training and validation data \n",
    "rs = RandomState(MT19937(SeedSequence(694200)))\n",
    "\n",
    "\n",
    "wine = io.loadmat(\"data_wine.mat\")\n",
    "# separate into training data, training labels, testing data, and feature descriptions\n",
    "wine_raw_training_data = wine[\"X\"] \n",
    "wine_training_labels = wine[\"y\"]\n",
    "wine_test_data = wine[\"X_test\"]\n",
    "wine_descriptions = wine[\"description\"]\n",
    "\n",
    "# attach labels to corresponding data, then shuffle\n",
    "wine_tuples = np.hstack((wine_raw_training_data, wine_training_labels))\n",
    "wine_tuples_shuffled = rs.permutation(wine_tuples)\n",
    "\n",
    "# assign 500 tuples from randomly shuffled data to validation, the rest to training\n",
    "wine_validation_data = wine_tuples_shuffled[0:500, 0:-1]\n",
    "wine_validation_labels = wine_tuples_shuffled[0:500, -1]\n",
    "wine_training_data = wine_tuples_shuffled[500:, 0:-1]\n",
    "wine_training_labels = wine_tuples_shuffled[500:, -1]\n",
    "\n",
    "# Standardize Data By Feature and Add Fictitious Dimension\n",
    "training_features_means = np.mean(wine_training_data, axis=0)\n",
    "training_features_sd = np.std(wine_training_data, axis=0)\n",
    "wine_standardized_training_data = (wine_training_data - training_features_means) / training_features_sd\n",
    "wine_training_data = np.hstack((wine_standardized_training_data, np.ones((wine_standardized_training_data.shape[0],1))))\n",
    "\n",
    "# standardize validation and testing data by the training data's mean and std, add fictitious dimension to both as well\n",
    "wine_validation_data = (wine_validation_data - training_features_means) / training_features_sd\n",
    "wine_validation_data = np.hstack((wine_validation_data, np.ones((wine_validation_data.shape[0],1))))\n",
    "\n",
    "wine_test_data = (wine_test_data - training_features_means) / training_features_sd\n",
    "wine_test_data = np.hstack((wine_test_data, np.ones((wine_test_data.shape[0],1))))\n"
   ]
  },
  {
   "cell_type": "code",
   "execution_count": 395,
   "metadata": {},
   "outputs": [],
   "source": [
    "def logistic_cost(data,labels,w):\n",
    "    \"\"\"\n",
    "    Computes the logistic cost function\n",
    "\n",
    "    :param data: the training data; for wine, expect (5500,13) matrix\n",
    "    :param labels: the training labels; for wine, expect (5500,) vector\n",
    "    :param w: the training weights; for wine, expect (13,) vector\n",
    "    \n",
    "    :return: scalar logistic cost\n",
    "    \"\"\" \n",
    "\n",
    "    sigmoid = sp.special.expit(data@w) # s = 1 / (1 + e^(-Xw))\n",
    "\n",
    "    first_component = -1 * np.dot(labels, np.log(sigmoid)) # -y . ln(s)\n",
    "    second_component_sub_a = np.ones((data.shape[0], 1)).reshape(-1) - labels # 1-y\n",
    "    second_component_sub_b = np.ones((data.shape[0], 1)).reshape(-1) - sigmoid #  1-s\n",
    "    second_component = -1 * np.dot(second_component_sub_a, np.log(second_component_sub_b)) # -(1-y) . ln(1-s)\n",
    "    \n",
    "    # - y . ln(s) - (1-y) . ln(1-s)\n",
    "    return first_component + second_component"
   ]
  },
  {
   "cell_type": "code",
   "execution_count": 396,
   "metadata": {},
   "outputs": [],
   "source": [
    "def descend_bgd(alpha, data=wine_training_data, labels=wine_training_labels, ep = 0.0001, max_iters=10000, l2=0):\n",
    "    \"\"\"\n",
    "    Operationalizes batch gradient descent in order to find the weights that best minimize the logistic cost function\n",
    "\n",
    "    :param alpha: the learning rate (hyperparameter)\n",
    "    :param data: the training data\n",
    "    :param labels: the training labels\n",
    "    :param ep: desired difference in current and previous cost, indicator of convergence\n",
    "    :param max_iters: maximum number of interactions (batches)\n",
    "    :param l2: regularization parameter in L2\n",
    "\n",
    "    :return: most recent gradient vector, weights vector, logistic cost\n",
    "    \"\"\"\n",
    "\n",
    "    converged = False\n",
    "    w_i = rs.random((13,))\n",
    "    iter = 0\n",
    "    J = logistic_cost(data,labels, w_i)\n",
    "    \n",
    "    while not converged:\n",
    "        # compute the gradient\n",
    "        residual = sp.special.expit(data @ w_i) - labels\n",
    "        gradient = (data.T @ (residual)) + (2 * l2 * w_i)\n",
    "\n",
    "        # update the weights\n",
    "        w_i = w_i - alpha * gradient\n",
    "\n",
    "        # find new cost\n",
    "        e = logistic_cost(data,labels, w_i)\n",
    "        if abs(J-e) <= ep:\n",
    "            print(f\"Converged, iterations: {iter}\")\n",
    "            converged =  True\n",
    "        \n",
    "        J = e # update error\n",
    "        iter += 1\n",
    "\n",
    "        if iter == max_iters:\n",
    "            print(f\"Max iteractions {max_iters} exceeded\")\n",
    "            converged = True\n",
    "        \n",
    "    return gradient, w_i, J\n"
   ]
  },
  {
   "cell_type": "code",
   "execution_count": 397,
   "metadata": {},
   "outputs": [
    {
     "name": "stdout",
     "output_type": "stream",
     "text": [
      "Max iteractions 100 exceeded\n",
      "Max iteractions 250 exceeded\n",
      "Max iteractions 500 exceeded\n",
      "Max iteractions 1000 exceeded\n",
      "Max iteractions 2500 exceeded\n",
      "Converged, iterations: 3736\n",
      "Converged, iterations: 3736\n",
      "Converged, iterations: 3749\n"
     ]
    },
    {
     "data": {
      "text/plain": [
       "Text(0, 0.5, 'Value of the Cost Function')"
      ]
     },
     "execution_count": 397,
     "metadata": {},
     "output_type": "execute_result"
    },
    {
     "data": {
      "image/png": "[encoded data removed]",
      "text/plain": [
       "<Figure size 432x288 with 1 Axes>"
      ]
     },
     "metadata": {
      "needs_background": "light"
     },
     "output_type": "display_data"
    }
   ],
   "source": [
    "rs = RandomState(MT19937(SeedSequence(42069)))\n",
    "\n",
    "num_iters = [100,250,500,1000,2500,5000,7500,10000]\n",
    "cost_function_values = [descend_bgd(0.0005, wine_training_data, wine_training_labels, max_iters=i)[2] for i in num_iters]\n",
    "plt.plot(num_iters, cost_function_values)\n",
    "plt.title(\"Value of the Cost Function Vs. Number of Iterations Spent in Training for Batch Gradient Descent\")\n",
    "plt.xlabel(\"Number of Iterations\")\n",
    "plt.ylabel(\"Value of the Cost Function\")"
   ]
  },
  {
   "cell_type": "code",
   "execution_count": 398,
   "metadata": {},
   "outputs": [],
   "source": [
    "def descend_sgd(alpha, data=wine_training_data, labels=wine_training_labels, ep = 0.0001, max_iters=10000, l2=4):\n",
    "    \"\"\"\n",
    "    Operationalizes stochastic gradient descent in order to find the weights that best minimize the logistic cost function\n",
    "\n",
    "    :param alpha: the learning rate (hyperparameter)\n",
    "    :param data: the training data\n",
    "    :param labels: the training labels\n",
    "    :param ep: desired difference in current and previous cost, indicator of convergence\n",
    "    :param max_iters: maximum number of interactions (batches)\n",
    "    :param l2: regularization parameter in L2\n",
    "\n",
    "    :return: most recent gradient vector, weights vector, logistic cost\n",
    "    \"\"\"\n",
    "    \n",
    "    converged = False\n",
    "    w_i = rs.random((13,))\n",
    "    iter = 0\n",
    "    J = logistic_cost(data,labels, w_i)\n",
    "    \n",
    "    while not converged:\n",
    "        # compute the gradient\n",
    "        random_int = rs.randint(0, data.shape[0])\n",
    "        sample = data[random_int][:].reshape((1,13))\n",
    "        residual = sp.special.expit(sample @ w_i) - labels[random_int]\n",
    "        gradient = (sample.T @ residual) + (2 * l2 * w_i)\n",
    "\n",
    "        # update the weights\n",
    "        w_i = w_i - alpha * gradient\n",
    "\n",
    "        # find new cost\n",
    "        e = logistic_cost(data,labels, w_i)\n",
    "        if abs(J-e) <= ep:\n",
    "            print(f\"Converged, iterations: {iter}\")\n",
    "            converged =  True\n",
    "        \n",
    "        J = e # update error\n",
    "        iter += 1\n",
    "\n",
    "        if iter == max_iters:\n",
    "            print(f\"Max iteractions {max_iters} exceeded\")\n",
    "            converged = True\n",
    "        \n",
    "    return gradient, w_i, J"
   ]
  },
  {
   "cell_type": "code",
   "execution_count": 399,
   "metadata": {},
   "outputs": [
    {
     "name": "stdout",
     "output_type": "stream",
     "text": [
      "Max iteractions 100 exceeded\n",
      "Max iteractions 250 exceeded\n",
      "Max iteractions 500 exceeded\n",
      "Max iteractions 1000 exceeded\n",
      "Max iteractions 2500 exceeded\n",
      "Converged, iterations: 3907\n",
      "Converged, iterations: 7172\n",
      "Converged, iterations: 2516\n"
     ]
    },
    {
     "data": {
      "text/plain": [
       "Text(0, 0.5, 'Value of the Cost Function')"
      ]
     },
     "execution_count": 399,
     "metadata": {},
     "output_type": "execute_result"
    },
    {
     "data": {
      "image/png": "[encoded data removed]",
      "text/plain": [
       "<Figure size 432x288 with 1 Axes>"
      ]
     },
     "metadata": {
      "needs_background": "light"
     },
     "output_type": "display_data"
    }
   ],
   "source": [
    "rs = RandomState(MT19937(SeedSequence(42069420)))\n",
    "\n",
    "num_iters = [100,250,500,1000,2500,5000,7500,10000]\n",
    "cost_function_values = [descend_sgd(0.0005, wine_training_data, wine_training_labels, max_iters=i, l2=4)[2] for i in num_iters]\n",
    "plt.plot(num_iters, cost_function_values)\n",
    "plt.title(\"Value of the Cost Function Vs. Number of Iterations Spent in Training for Batch Gradient Descent\")\n",
    "plt.xlabel(\"Number of Iterations\")\n",
    "plt.ylabel(\"Value of the Cost Function\")"
   ]
  },
  {
   "cell_type": "code",
   "execution_count": 416,
   "metadata": {},
   "outputs": [],
   "source": [
    "test_predictions = np.round(sp.special.expit(wine_test_data @ bgd[1]))\n",
    "\n",
    "wine_pd = pd.DataFrame(np.int64(test_predictions),columns=['Category'])\n",
    "wine_pd.index.name = 'Id'\n",
    "wine_pd.index += 1\n",
    "wine_pd.to_csv(\"wine_test_predictions.csv\")"
   ]
  }
 ],
 "metadata": {
  "interpreter": {
   "hash": "a7e21bd2c782844b3a6a09dcd870bc8135ee8c8685a6c615b92ce68add8df772"
  },
  "kernelspec": {
   "display_name": "Python 3.8.10 ('189env')",
   "language": "python",
   "name": "python3"
  },
  "language_info": {
   "codemirror_mode": {
    "name": "ipython",
    "version": 3
   },
   "file_extension": ".py",
   "mimetype": "text/x-python",
   "name": "python",
   "nbconvert_exporter": "python",
   "pygments_lexer": "ipython3",
   "version": "3.8.8"
  },
  "orig_nbformat": 4
 },
 "nbformat": 4,
 "nbformat_minor": 2
}
