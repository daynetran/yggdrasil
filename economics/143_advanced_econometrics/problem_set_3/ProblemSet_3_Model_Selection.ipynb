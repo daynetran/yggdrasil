{
 "cells": [
  {
   "cell_type": "markdown",
   "id": "7a763802",
   "metadata": {},
   "source": [
    "# Ec 143 - Problem Set 3\n",
    "# Model Selection\n",
    "Due by 5PM on April 8th. The GSI, Mengsi Gao (mengsi.gao@berkeley.edu) will handle the logistics of problem set collection.    \n",
    "\n",
    "Working with peers on the problem set is actively encouraged, but everyone needs to turn in their own Jupyter Notebook and any other accompanying materials. All narrative responses should be placed in a markdown box below the appropriate question.\n",
    "\n",
    "This problem set reviews the material on model selection developed in lecture."
   ]
  },
  {
   "cell_type": "code",
   "execution_count": 1,
   "id": "6b134d7e",
   "metadata": {},
   "outputs": [],
   "source": [
    "# Load libraries\n",
    "import numpy as np\n",
    "import scipy as sp\n",
    "import pandas as pd\n",
    "import matplotlib.pyplot as plt\n",
    "\n",
    "from sklearn import tree\n",
    "from sklearn.linear_model import LinearRegression\n",
    "\n",
    "from scipy.interpolate import griddata"
   ]
  },
  {
   "cell_type": "markdown",
   "id": "c7e0808b",
   "metadata": {},
   "source": [
    "The datafiles needed to complete this problem set are available on the course GitHub repository. We will use two datasets, the first is a labor force survey from Brazil (PNAD). An interesting introduction to this dataset can be found in the article D. Lam and RF Schoeni. (1993). \"Effects of family background on earnings and returns to schooling: evidence from Brazil,\" _Journal of Political Economy_ 101 (4): 710 - 740.    \n",
    "\n",
    "The second dataset is a consumption survey of a sample of rural households from Nicaragua. You can read more about this dataset in B. Graham and J. Powell. (2012). \"Identification and estimation of average partial effects in `irregular’ correlated random coefficient panel data models,\" _Econometrica_ 80 (5): 2105 - 2152."
   ]
  },
  {
   "cell_type": "code",
   "execution_count": 2,
   "id": "dd420d91",
   "metadata": {},
   "outputs": [],
   "source": [
    "# data = '/Users/bgraham/Dropbox/Teaching/Berkeley_Courses/Ec143/Ec143_Spring2022/Datasets/'\n",
    "# graphics = '/Users/bgraham/Dropbox/Teaching/Berkeley_Courses/Ec143/Ec143_Spring2022/Graphics/'"
   ]
  },
  {
   "cell_type": "markdown",
   "id": "c2a828df",
   "metadata": {},
   "source": [
    "## Part 1: Analysis of Brazilian data\n",
    "\n",
    "We will work with a PNAD subsample consisting of observations with positive monthly earnings. This allows us to define the outcome variable to be log monthly earnings, the distribution of which is well-approximated by the Gaussian distribution. We also just work with the population aged 20 to 65 years of age (prime working ages)."
   ]
  },
  {
   "cell_type": "code",
   "execution_count": 3,
   "id": "f0d33a28",
   "metadata": {},
   "outputs": [
    {
     "data": {
      "text/html": [
       "<div>\n",
       "<style scoped>\n",
       "    .dataframe tbody tr th:only-of-type {\n",
       "        vertical-align: middle;\n",
       "    }\n",
       "\n",
       "    .dataframe tbody tr th {\n",
       "        vertical-align: top;\n",
       "    }\n",
       "\n",
       "    .dataframe thead th {\n",
       "        text-align: right;\n",
       "    }\n",
       "</style>\n",
       "<table border=\"1\" class=\"dataframe\">\n",
       "  <thead>\n",
       "    <tr style=\"text-align: right;\">\n",
       "      <th></th>\n",
       "      <th>AgeInDays</th>\n",
       "      <th>YRSSCH</th>\n",
       "      <th>MONTHLY_EARNINGS</th>\n",
       "      <th>Father_NoSchool</th>\n",
       "      <th>Father_Incomplete1stPrimary</th>\n",
       "      <th>Father_Complete1stPrimary</th>\n",
       "      <th>Father_Incomplete2ndPrimary</th>\n",
       "      <th>Father_Complete2ndPrimary</th>\n",
       "      <th>Father_IncompleteSecondary</th>\n",
       "      <th>Father_CompleteSecondary</th>\n",
       "      <th>...</th>\n",
       "      <th>Mother_NoSchool</th>\n",
       "      <th>Mother_Incomplete1stPrimary</th>\n",
       "      <th>Mother_Complete1stPrimary</th>\n",
       "      <th>Mother_Incomplete2ndPrimary</th>\n",
       "      <th>Mother_Complete2ndPrimary</th>\n",
       "      <th>Mother_IncompleteSecondary</th>\n",
       "      <th>Mother_CompleteSecondary</th>\n",
       "      <th>Mother_IncompleteHigher</th>\n",
       "      <th>Mother_CompleteHigher</th>\n",
       "      <th>Mother_DontKnow</th>\n",
       "    </tr>\n",
       "  </thead>\n",
       "  <tbody>\n",
       "    <tr>\n",
       "      <th>count</th>\n",
       "      <td>57651.000000</td>\n",
       "      <td>57651.000000</td>\n",
       "      <td>57651.000000</td>\n",
       "      <td>57651.000000</td>\n",
       "      <td>57651.000000</td>\n",
       "      <td>57651.000000</td>\n",
       "      <td>57651.000000</td>\n",
       "      <td>57651.000000</td>\n",
       "      <td>57651.000000</td>\n",
       "      <td>57651.000000</td>\n",
       "      <td>...</td>\n",
       "      <td>57651.000000</td>\n",
       "      <td>57651.000000</td>\n",
       "      <td>57651.000000</td>\n",
       "      <td>57651.000000</td>\n",
       "      <td>57651.000000</td>\n",
       "      <td>57651.000000</td>\n",
       "      <td>57651.000000</td>\n",
       "      <td>57651.000000</td>\n",
       "      <td>57651.000000</td>\n",
       "      <td>57651.000000</td>\n",
       "    </tr>\n",
       "    <tr>\n",
       "      <th>mean</th>\n",
       "      <td>37.971992</td>\n",
       "      <td>5.747324</td>\n",
       "      <td>632.051985</td>\n",
       "      <td>0.287575</td>\n",
       "      <td>0.205027</td>\n",
       "      <td>0.138419</td>\n",
       "      <td>0.033425</td>\n",
       "      <td>0.053685</td>\n",
       "      <td>0.052159</td>\n",
       "      <td>0.038802</td>\n",
       "      <td>...</td>\n",
       "      <td>0.341052</td>\n",
       "      <td>0.188288</td>\n",
       "      <td>0.134985</td>\n",
       "      <td>0.040849</td>\n",
       "      <td>0.064370</td>\n",
       "      <td>0.031951</td>\n",
       "      <td>0.044249</td>\n",
       "      <td>0.016392</td>\n",
       "      <td>0.052991</td>\n",
       "      <td>0.084873</td>\n",
       "    </tr>\n",
       "    <tr>\n",
       "      <th>std</th>\n",
       "      <td>11.126182</td>\n",
       "      <td>4.231994</td>\n",
       "      <td>1105.739430</td>\n",
       "      <td>0.452636</td>\n",
       "      <td>0.403725</td>\n",
       "      <td>0.345342</td>\n",
       "      <td>0.179746</td>\n",
       "      <td>0.225397</td>\n",
       "      <td>0.222349</td>\n",
       "      <td>0.193126</td>\n",
       "      <td>...</td>\n",
       "      <td>0.474067</td>\n",
       "      <td>0.390945</td>\n",
       "      <td>0.341710</td>\n",
       "      <td>0.197943</td>\n",
       "      <td>0.245413</td>\n",
       "      <td>0.175871</td>\n",
       "      <td>0.205650</td>\n",
       "      <td>0.126978</td>\n",
       "      <td>0.224018</td>\n",
       "      <td>0.278695</td>\n",
       "    </tr>\n",
       "    <tr>\n",
       "      <th>min</th>\n",
       "      <td>20.000000</td>\n",
       "      <td>0.000000</td>\n",
       "      <td>4.000000</td>\n",
       "      <td>0.000000</td>\n",
       "      <td>0.000000</td>\n",
       "      <td>0.000000</td>\n",
       "      <td>0.000000</td>\n",
       "      <td>0.000000</td>\n",
       "      <td>0.000000</td>\n",
       "      <td>0.000000</td>\n",
       "      <td>...</td>\n",
       "      <td>0.000000</td>\n",
       "      <td>0.000000</td>\n",
       "      <td>0.000000</td>\n",
       "      <td>0.000000</td>\n",
       "      <td>0.000000</td>\n",
       "      <td>0.000000</td>\n",
       "      <td>0.000000</td>\n",
       "      <td>0.000000</td>\n",
       "      <td>0.000000</td>\n",
       "      <td>0.000000</td>\n",
       "    </tr>\n",
       "    <tr>\n",
       "      <th>25%</th>\n",
       "      <td>28.943190</td>\n",
       "      <td>3.000000</td>\n",
       "      <td>174.000000</td>\n",
       "      <td>0.000000</td>\n",
       "      <td>0.000000</td>\n",
       "      <td>0.000000</td>\n",
       "      <td>0.000000</td>\n",
       "      <td>0.000000</td>\n",
       "      <td>0.000000</td>\n",
       "      <td>0.000000</td>\n",
       "      <td>...</td>\n",
       "      <td>0.000000</td>\n",
       "      <td>0.000000</td>\n",
       "      <td>0.000000</td>\n",
       "      <td>0.000000</td>\n",
       "      <td>0.000000</td>\n",
       "      <td>0.000000</td>\n",
       "      <td>0.000000</td>\n",
       "      <td>0.000000</td>\n",
       "      <td>0.000000</td>\n",
       "      <td>0.000000</td>\n",
       "    </tr>\n",
       "    <tr>\n",
       "      <th>50%</th>\n",
       "      <td>36.750170</td>\n",
       "      <td>5.000000</td>\n",
       "      <td>320.000000</td>\n",
       "      <td>0.000000</td>\n",
       "      <td>0.000000</td>\n",
       "      <td>0.000000</td>\n",
       "      <td>0.000000</td>\n",
       "      <td>0.000000</td>\n",
       "      <td>0.000000</td>\n",
       "      <td>0.000000</td>\n",
       "      <td>...</td>\n",
       "      <td>0.000000</td>\n",
       "      <td>0.000000</td>\n",
       "      <td>0.000000</td>\n",
       "      <td>0.000000</td>\n",
       "      <td>0.000000</td>\n",
       "      <td>0.000000</td>\n",
       "      <td>0.000000</td>\n",
       "      <td>0.000000</td>\n",
       "      <td>0.000000</td>\n",
       "      <td>0.000000</td>\n",
       "    </tr>\n",
       "    <tr>\n",
       "      <th>75%</th>\n",
       "      <td>45.895960</td>\n",
       "      <td>8.000000</td>\n",
       "      <td>600.000000</td>\n",
       "      <td>1.000000</td>\n",
       "      <td>0.000000</td>\n",
       "      <td>0.000000</td>\n",
       "      <td>0.000000</td>\n",
       "      <td>0.000000</td>\n",
       "      <td>0.000000</td>\n",
       "      <td>0.000000</td>\n",
       "      <td>...</td>\n",
       "      <td>1.000000</td>\n",
       "      <td>0.000000</td>\n",
       "      <td>0.000000</td>\n",
       "      <td>0.000000</td>\n",
       "      <td>0.000000</td>\n",
       "      <td>0.000000</td>\n",
       "      <td>0.000000</td>\n",
       "      <td>0.000000</td>\n",
       "      <td>0.000000</td>\n",
       "      <td>0.000000</td>\n",
       "    </tr>\n",
       "    <tr>\n",
       "      <th>max</th>\n",
       "      <td>64.996570</td>\n",
       "      <td>15.000000</td>\n",
       "      <td>50000.000000</td>\n",
       "      <td>1.000000</td>\n",
       "      <td>1.000000</td>\n",
       "      <td>1.000000</td>\n",
       "      <td>1.000000</td>\n",
       "      <td>1.000000</td>\n",
       "      <td>1.000000</td>\n",
       "      <td>1.000000</td>\n",
       "      <td>...</td>\n",
       "      <td>1.000000</td>\n",
       "      <td>1.000000</td>\n",
       "      <td>1.000000</td>\n",
       "      <td>1.000000</td>\n",
       "      <td>1.000000</td>\n",
       "      <td>1.000000</td>\n",
       "      <td>1.000000</td>\n",
       "      <td>1.000000</td>\n",
       "      <td>1.000000</td>\n",
       "      <td>1.000000</td>\n",
       "    </tr>\n",
       "  </tbody>\n",
       "</table>\n",
       "<p>8 rows × 23 columns</p>\n",
       "</div>"
      ],
      "text/plain": [
       "          AgeInDays        YRSSCH  MONTHLY_EARNINGS  Father_NoSchool  \\\n",
       "count  57651.000000  57651.000000      57651.000000     57651.000000   \n",
       "mean      37.971992      5.747324        632.051985         0.287575   \n",
       "std       11.126182      4.231994       1105.739430         0.452636   \n",
       "min       20.000000      0.000000          4.000000         0.000000   \n",
       "25%       28.943190      3.000000        174.000000         0.000000   \n",
       "50%       36.750170      5.000000        320.000000         0.000000   \n",
       "75%       45.895960      8.000000        600.000000         1.000000   \n",
       "max       64.996570     15.000000      50000.000000         1.000000   \n",
       "\n",
       "       Father_Incomplete1stPrimary  Father_Complete1stPrimary  \\\n",
       "count                 57651.000000               57651.000000   \n",
       "mean                      0.205027                   0.138419   \n",
       "std                       0.403725                   0.345342   \n",
       "min                       0.000000                   0.000000   \n",
       "25%                       0.000000                   0.000000   \n",
       "50%                       0.000000                   0.000000   \n",
       "75%                       0.000000                   0.000000   \n",
       "max                       1.000000                   1.000000   \n",
       "\n",
       "       Father_Incomplete2ndPrimary  Father_Complete2ndPrimary  \\\n",
       "count                 57651.000000               57651.000000   \n",
       "mean                      0.033425                   0.053685   \n",
       "std                       0.179746                   0.225397   \n",
       "min                       0.000000                   0.000000   \n",
       "25%                       0.000000                   0.000000   \n",
       "50%                       0.000000                   0.000000   \n",
       "75%                       0.000000                   0.000000   \n",
       "max                       1.000000                   1.000000   \n",
       "\n",
       "       Father_IncompleteSecondary  Father_CompleteSecondary  ...  \\\n",
       "count                57651.000000              57651.000000  ...   \n",
       "mean                     0.052159                  0.038802  ...   \n",
       "std                      0.222349                  0.193126  ...   \n",
       "min                      0.000000                  0.000000  ...   \n",
       "25%                      0.000000                  0.000000  ...   \n",
       "50%                      0.000000                  0.000000  ...   \n",
       "75%                      0.000000                  0.000000  ...   \n",
       "max                      1.000000                  1.000000  ...   \n",
       "\n",
       "       Mother_NoSchool  Mother_Incomplete1stPrimary  \\\n",
       "count     57651.000000                 57651.000000   \n",
       "mean          0.341052                     0.188288   \n",
       "std           0.474067                     0.390945   \n",
       "min           0.000000                     0.000000   \n",
       "25%           0.000000                     0.000000   \n",
       "50%           0.000000                     0.000000   \n",
       "75%           1.000000                     0.000000   \n",
       "max           1.000000                     1.000000   \n",
       "\n",
       "       Mother_Complete1stPrimary  Mother_Incomplete2ndPrimary  \\\n",
       "count               57651.000000                 57651.000000   \n",
       "mean                    0.134985                     0.040849   \n",
       "std                     0.341710                     0.197943   \n",
       "min                     0.000000                     0.000000   \n",
       "25%                     0.000000                     0.000000   \n",
       "50%                     0.000000                     0.000000   \n",
       "75%                     0.000000                     0.000000   \n",
       "max                     1.000000                     1.000000   \n",
       "\n",
       "       Mother_Complete2ndPrimary  Mother_IncompleteSecondary  \\\n",
       "count               57651.000000                57651.000000   \n",
       "mean                    0.064370                    0.031951   \n",
       "std                     0.245413                    0.175871   \n",
       "min                     0.000000                    0.000000   \n",
       "25%                     0.000000                    0.000000   \n",
       "50%                     0.000000                    0.000000   \n",
       "75%                     0.000000                    0.000000   \n",
       "max                     1.000000                    1.000000   \n",
       "\n",
       "       Mother_CompleteSecondary  Mother_IncompleteHigher  \\\n",
       "count              57651.000000             57651.000000   \n",
       "mean                   0.044249                 0.016392   \n",
       "std                    0.205650                 0.126978   \n",
       "min                    0.000000                 0.000000   \n",
       "25%                    0.000000                 0.000000   \n",
       "50%                    0.000000                 0.000000   \n",
       "75%                    0.000000                 0.000000   \n",
       "max                    1.000000                 1.000000   \n",
       "\n",
       "       Mother_CompleteHigher  Mother_DontKnow  \n",
       "count           57651.000000     57651.000000  \n",
       "mean                0.052991         0.084873  \n",
       "std                 0.224018         0.278695  \n",
       "min                 0.000000         0.000000  \n",
       "25%                 0.000000         0.000000  \n",
       "50%                 0.000000         0.000000  \n",
       "75%                 0.000000         0.000000  \n",
       "max                 1.000000         1.000000  \n",
       "\n",
       "[8 rows x 23 columns]"
      ]
     },
     "execution_count": 3,
     "metadata": {},
     "output_type": "execute_result"
    }
   ],
   "source": [
    "pnad96 = pd.read_csv('Brazil_1996PNAD.out', header = 0, sep='\\t+', engine='python')\n",
    "\n",
    "# Find relevant estimation subsample\n",
    "sample = pnad96.loc[(pnad96['MONTHLY_EARNINGS'] > 0) & (pnad96['AgeInDays'] >= 20)  & (pnad96['AgeInDays'] < 65)]\n",
    "\n",
    "#Display the first few rows of the dataframe\n",
    "sample.describe()"
   ]
  },
  {
   "cell_type": "markdown",
   "id": "4a7aa2c1",
   "metadata": {},
   "source": [
    "### Question 1\n",
    "In a markdown box describe some basic features of our estimation sample. How many observations are available? Comment on any features of the distribution of school and/or earnings that stand out."
   ]
  },
  {
   "cell_type": "markdown",
   "id": "473c143f",
   "metadata": {},
   "source": [
    "**We have 57,651 data points in our sample.**\n",
    "\n",
    "**The average monthly earnings is $632 per month, with an incredibly high standard deviation of $1105 per month. We can infer from the standard deviation and percentiles that the distribution for monthly earnings must have a heavy right skew. In other words, most data points for average monthly earnings hover around the median ($320), but there are some incredibly extreme outliers that drag the mean to almost double the median ($632).**\n",
    "\n",
    "**The average years of schooling is 5.7 years of schooling, with a standard deviation of 4.2 years of schooling. Although monthly earnings and years of schooling share a right skewness, years of schooling has nowhere near the magnitude of skew that monthly earnings have. The distribution of years of schooling is closer to normal than the distribution of monthly earnings.**"
   ]
  },
  {
   "cell_type": "markdown",
   "id": "619feed3",
   "metadata": {},
   "source": [
    "This next block of code shows how to use the *DecisionTreeRegressor* method in the machine learning module **sklearn**. For our initial analysis we will use just two predictors: years-of-schooling and age."
   ]
  },
  {
   "cell_type": "code",
   "execution_count": 4,
   "id": "a643a98a",
   "metadata": {},
   "outputs": [
    {
     "data": {
      "image/png": "[encoded data removed]",
      "text/plain": [
       "<Figure size 432x288 with 3 Axes>"
      ]
     },
     "metadata": {
      "needs_background": "light"
     },
     "output_type": "display_data"
    }
   ],
   "source": [
    "X = sample[['YRSSCH','AgeInDays']]\n",
    "Y = np.log(sample['MONTHLY_EARNINGS'])\n",
    "\n",
    "# Fit regression model\n",
    "regr_1 = tree.DecisionTreeRegressor(max_depth=3)\n",
    "regr_2 = tree.DecisionTreeRegressor(max_depth=4)\n",
    "regr_1.fit(X, Y)\n",
    "regr_2.fit(X, Y)\n",
    "\n",
    "# Form interpolation grid upon which to plot estimated regression surface\n",
    "Sch_i, Age_i = np.mgrid[0:16, 20:100]\n",
    "Sch_i        = Sch_i.flatten('F')[:, np.newaxis]\n",
    "Age_i        = Age_i.flatten('F')[:, np.newaxis]\n",
    "X_i          = np.concatenate((Sch_i, Age_i ), axis=1)\n",
    "\n",
    "y_1 = regr_1.predict(X_i)\n",
    "y_2 = regr_2.predict(X_i)\n",
    "\n",
    "Sch_i  = Sch_i.reshape((16, 80), order='F')\n",
    "Age_i  = Age_i.reshape((16, 80), order='F')\n",
    "y_1    = y_1.reshape((16, 80), order='F')\n",
    "y_2    = y_2.reshape((16, 80), order='F')\n",
    "\n",
    "# Create a 1 x 2 array of plots, with a contour representation of (i) the MLE regression surface\n",
    "# as well as (ii) its smoothed USE counterpart.\n",
    "plt.figure(1)\n",
    "plt.subplot(121)\n",
    "surf_1    = plt.contourf(Sch_i, Age_i, y_1, cmap='Greens')\n",
    "surf_1_cl = plt.contour(surf_1,colors = 'Green')\n",
    "plt.title('Surface (Max Depth = 3)')\n",
    "plt.xlabel('Years-of-Schooling')\n",
    "plt.ylabel('Age')\n",
    "\n",
    "plt.subplot(122)\n",
    "surf_2    = plt.contourf(Sch_i, Age_i, y_2, cmap='Greens')\n",
    "surf_2_cl = plt.contour(surf_2,colors = 'Green')\n",
    "cb = plt.colorbar(surf_2)\n",
    "cb.set_label('Log Monthly Earnings')\n",
    "plt.title('Surface (Max Depth = 4)')\n",
    "plt.xlabel('Years-of-Schooling')\n",
    "plt.ylabel('Age')\n",
    "\n",
    "# Save result\n",
    "plt.tight_layout()\n",
    "plt.savefig('Fig_RegressionTreeExample.png')"
   ]
  },
  {
   "cell_type": "markdown",
   "id": "48265fcb",
   "metadata": {},
   "source": [
    "### Question 2\n",
    "In a separate markdown box comment on the regression tree results presented in the two figures above. What do they suggest about the relationship between schooling and earnings in Brazil? The relationship between age and earnings?"
   ]
  },
  {
   "cell_type": "markdown",
   "id": "00a35352",
   "metadata": {},
   "source": [
    "**Years of schooling and monthly earnings in Brazil have a direct relationship (if years of schooling goes up, so do monthly earnings; if years of schooling goes down, so do monthly earnings). Age and monthly earnings also have a direct relationship.**"
   ]
  },
  {
   "cell_type": "markdown",
   "id": "e1973e78",
   "metadata": {},
   "source": [
    "### Question 3\n",
    "This next block of code prints out the fitted depth 3 regression tree. Discuss any additional features of the relationship between earnings, schooling and age that seem relevant in light of figure. Place your answer in a markdown box below the figure."
   ]
  },
  {
   "cell_type": "code",
   "execution_count": 5,
   "id": "30044700",
   "metadata": {},
   "outputs": [
    {
     "data": {
      "text/plain": [
       "[Text(0.5, 0.875, 'Highest Grade Complete <= 10.5\\nsquared_error = 1.025\\nsamples = 57651\\nvalue = 5.86'),\n",
       " Text(0.25, 0.625, 'Highest Grade Complete <= 3.5\\nsquared_error = 0.727\\nsamples = 46956\\nvalue = 5.61'),\n",
       " Text(0.125, 0.375, 'Highest Grade Complete <= 1.5\\nsquared_error = 0.644\\nsamples = 17944\\nvalue = 5.247'),\n",
       " Text(0.0625, 0.125, 'squared_error = 0.618\\nsamples = 10168\\nvalue = 5.092'),\n",
       " Text(0.1875, 0.125, 'squared_error = 0.607\\nsamples = 7776\\nvalue = 5.448'),\n",
       " Text(0.375, 0.375, 'Age <= 28.957\\nsquared_error = 0.645\\nsamples = 29012\\nvalue = 5.835'),\n",
       " Text(0.3125, 0.125, 'squared_error = 0.484\\nsamples = 9446\\nvalue = 5.554'),\n",
       " Text(0.4375, 0.125, 'squared_error = 0.667\\nsamples = 19566\\nvalue = 5.971'),\n",
       " Text(0.75, 0.625, 'Highest Grade Complete <= 13.5\\nsquared_error = 0.864\\nsamples = 10695\\nvalue = 6.954'),\n",
       " Text(0.625, 0.375, 'Age <= 33.666\\nsquared_error = 0.672\\nsamples = 6810\\nvalue = 6.636'),\n",
       " Text(0.5625, 0.125, 'squared_error = 0.567\\nsamples = 2558\\nvalue = 6.452'),\n",
       " Text(0.6875, 0.125, 'squared_error = 0.703\\nsamples = 4252\\nvalue = 6.747'),\n",
       " Text(0.875, 0.375, 'Age <= 38.249\\nsquared_error = 0.712\\nsamples = 3885\\nvalue = 7.51'),\n",
       " Text(0.8125, 0.125, 'squared_error = 0.618\\nsamples = 1501\\nvalue = 7.305'),\n",
       " Text(0.9375, 0.125, 'squared_error = 0.729\\nsamples = 2384\\nvalue = 7.64')]"
      ]
     },
     "execution_count": 5,
     "metadata": {},
     "output_type": "execute_result"
    },
    {
     "data": {
      "image/png": "[encoded data removed]",
      "text/plain": [
       "<Figure size 1440x720 with 1 Axes>"
      ]
     },
     "metadata": {
      "needs_background": "light"
     },
     "output_type": "display_data"
    }
   ],
   "source": [
    "plt.figure(figsize=(20, 10))\n",
    "tree.plot_tree(regr_1, feature_names = ['Highest Grade Complete', 'Age'])"
   ]
  },
  {
   "cell_type": "markdown",
   "id": "5c519fc6",
   "metadata": {},
   "source": [
    "We can look at the squared errors and numbers of "
   ]
  },
  {
   "cell_type": "markdown",
   "id": "e440473e",
   "metadata": {},
   "source": [
    "### Question 4\n",
    "The next block of code define a function which returns Ye's (1998) unbiased risk estimate for regression trees. Add a decription to this function. This description should define each of the function's six parameters as well as its three outputs. Add comments to the function which describe the operations made by the different blocks of code within it."
   ]
  },
  {
   "cell_type": "code",
   "execution_count": 6,
   "id": "892cbfe1",
   "metadata": {},
   "outputs": [],
   "source": [
    "def tree_SURE(X, Y, sigma2, J, h, S):\n",
    "    \n",
    "    \"\"\"\n",
    "    Given a set of input parameters, the tree_SURE fn will build  \n",
    "    a decision tree regressor of a specific length and fit the \n",
    "    data to the labels. The newly-built decision tree will then \n",
    "    predict labels for the training points it just trained upon. \n",
    "    The fn takes these labels and finds the sum of squared \n",
    "    residuals, one of the three components of risk.\n",
    "\n",
    "    We then take 100 random samples from the normal distribution of \n",
    "    some hyperparameter related to the standard deviation of the labels. \n",
    "    These are small nudges that emulate delta. We build an expectation \n",
    "    of the degrees of freedom. Then, we derive the variance using \n",
    "    degrees of freedom and sum of squared residuals.\n",
    "\n",
    "    Finally, we can build the expected risk using all three of its major components.\n",
    "\n",
    "    :param X: the training data\n",
    "    :param Y: labels\n",
    "    :param sigma2: variance\n",
    "    :param J: tree depth\n",
    "    :param h: the mean parameter for some small noise that follows normal distribution\n",
    "    :param S: number of times you create a small noise, used to generate expectation\n",
    "    \n",
    "    :return: expectation of risk\n",
    "    \"\"\"\n",
    "    \n",
    "    [N, _] = np.shape(X)\n",
    "    \n",
    "    YE_matrix   = np.zeros((N,S))\n",
    "    Ds_matrix   = np.zeros((N,S))\n",
    "    DmDy_vector = np.zeros((N,))\n",
    "    \n",
    "    regr_J  = tree.DecisionTreeRegressor(max_depth=J)\n",
    "    regr_J.fit(X, Y)\n",
    "    m_hat_J = regr_J.predict(X)\n",
    "    SSR     = np.sum((Y - m_hat_J)**2)\n",
    "    \n",
    "    for s in range(0,S):\n",
    "        D_s     = np.random.normal(0, h, size=(N,))\n",
    "        regr_J.fit(X, Y + D_s)\n",
    "        m_hat_s = regr_J.predict(X)\n",
    "        YE_matrix[:,s] = m_hat_s\n",
    "        Ds_matrix[:,s] = D_s\n",
    "    \n",
    "    for i in range(0,N):\n",
    "        DmDy_i_reg     = LinearRegression(fit_intercept=True).fit(Ds_matrix[i,:,np.newaxis], YE_matrix[i,:])\n",
    "        DmDy_vector[i] = DmDy_i_reg.coef_[0]\n",
    "\n",
    "    df_hat  = np.sum(DmDy_vector) \n",
    "    \n",
    "    if not sigma2:\n",
    "        sigma2 = (1/(N-df_hat))*SSR\n",
    "    \n",
    "    sure       = -N*sigma2 + SSR + 2*sigma2*df_hat \n",
    "    \n",
    "    return [sure, sigma2, df_hat]"
   ]
  },
  {
   "cell_type": "markdown",
   "id": "3da49c76",
   "metadata": {},
   "source": [
    "### Question 5\n",
    "This next block of code uses **treeSURE** to select the maximum depth of our regression tree model for log earnings as a function of schooling and age. Please add comments to the code; explaining the role of each block of code."
   ]
  },
  {
   "cell_type": "code",
   "execution_count": 11,
   "id": "882688bf",
   "metadata": {},
   "outputs": [
    {
     "ename": "ValueError",
     "evalue": "Number of labels=1358 does not match number of samples=57651",
     "output_type": "error",
     "traceback": [
      "\u001b[0;31m---------------------------------------------------------------------------\u001b[0m",
      "\u001b[0;31mValueError\u001b[0m                                Traceback (most recent call last)",
      "Input \u001b[0;32mIn [11]\u001b[0m, in \u001b[0;36m<module>\u001b[0;34m\u001b[0m\n\u001b[1;32m      4\u001b[0m S           \u001b[38;5;241m=\u001b[39m \u001b[38;5;241m100\u001b[39m\n\u001b[1;32m      6\u001b[0m \u001b[38;5;66;03m# derive the noise parameter\u001b[39;00m\n\u001b[0;32m----> 7\u001b[0m [sure, s2_hat, df_hat] \u001b[38;5;241m=\u001b[39m \u001b[43mtree_SURE\u001b[49m\u001b[43m(\u001b[49m\u001b[43mX\u001b[49m\u001b[43m,\u001b[49m\u001b[43m \u001b[49m\u001b[43mY\u001b[49m\u001b[43m,\u001b[49m\u001b[43m \u001b[49m\u001b[43m[\u001b[49m\u001b[43m]\u001b[49m\u001b[43m,\u001b[49m\u001b[43m \u001b[49m\u001b[43mL\u001b[49m\u001b[43m,\u001b[49m\u001b[43m \u001b[49m\u001b[43mh_sv\u001b[49m\u001b[43m,\u001b[49m\u001b[43m \u001b[49m\u001b[43mS\u001b[49m\u001b[43m)\u001b[49m\n\u001b[1;32m      8\u001b[0m h           \u001b[38;5;241m=\u001b[39m \u001b[38;5;241m0.6\u001b[39m\u001b[38;5;241m*\u001b[39ms2_hat\u001b[38;5;241m*\u001b[39m\u001b[38;5;241m*\u001b[39m(\u001b[38;5;241m1\u001b[39m\u001b[38;5;241m/\u001b[39m\u001b[38;5;241m2\u001b[39m)\n\u001b[1;32m     10\u001b[0m \u001b[38;5;66;03m# we instantiate a list of tree depth values from 1 to 15, and an empty expected risk table\u001b[39;00m\n",
      "Input \u001b[0;32mIn [6]\u001b[0m, in \u001b[0;36mtree_SURE\u001b[0;34m(X, Y, sigma2, J, h, S)\u001b[0m\n\u001b[1;32m      9\u001b[0m DmDy_vector \u001b[38;5;241m=\u001b[39m np\u001b[38;5;241m.\u001b[39mzeros((N,))\n\u001b[1;32m     11\u001b[0m regr_J  \u001b[38;5;241m=\u001b[39m tree\u001b[38;5;241m.\u001b[39mDecisionTreeRegressor(max_depth\u001b[38;5;241m=\u001b[39mJ)\n\u001b[0;32m---> 12\u001b[0m \u001b[43mregr_J\u001b[49m\u001b[38;5;241;43m.\u001b[39;49m\u001b[43mfit\u001b[49m\u001b[43m(\u001b[49m\u001b[43mX\u001b[49m\u001b[43m,\u001b[49m\u001b[43m \u001b[49m\u001b[43mY\u001b[49m\u001b[43m)\u001b[49m\n\u001b[1;32m     13\u001b[0m m_hat_J \u001b[38;5;241m=\u001b[39m regr_J\u001b[38;5;241m.\u001b[39mpredict(X)\n\u001b[1;32m     14\u001b[0m SSR     \u001b[38;5;241m=\u001b[39m np\u001b[38;5;241m.\u001b[39msum((Y \u001b[38;5;241m-\u001b[39m m_hat_J)\u001b[38;5;241m*\u001b[39m\u001b[38;5;241m*\u001b[39m\u001b[38;5;241m2\u001b[39m)\n",
      "File \u001b[0;32m~/virtual_environments/189env/lib/python3.8/site-packages/sklearn/tree/_classes.py:1315\u001b[0m, in \u001b[0;36mDecisionTreeRegressor.fit\u001b[0;34m(self, X, y, sample_weight, check_input, X_idx_sorted)\u001b[0m\n\u001b[1;32m   1278\u001b[0m \u001b[38;5;28;01mdef\u001b[39;00m \u001b[38;5;21mfit\u001b[39m(\n\u001b[1;32m   1279\u001b[0m     \u001b[38;5;28mself\u001b[39m, X, y, sample_weight\u001b[38;5;241m=\u001b[39m\u001b[38;5;28;01mNone\u001b[39;00m, check_input\u001b[38;5;241m=\u001b[39m\u001b[38;5;28;01mTrue\u001b[39;00m, X_idx_sorted\u001b[38;5;241m=\u001b[39m\u001b[38;5;124m\"\u001b[39m\u001b[38;5;124mdeprecated\u001b[39m\u001b[38;5;124m\"\u001b[39m\n\u001b[1;32m   1280\u001b[0m ):\n\u001b[1;32m   1281\u001b[0m     \u001b[38;5;124;03m\"\"\"Build a decision tree regressor from the training set (X, y).\u001b[39;00m\n\u001b[1;32m   1282\u001b[0m \n\u001b[1;32m   1283\u001b[0m \u001b[38;5;124;03m    Parameters\u001b[39;00m\n\u001b[0;32m   (...)\u001b[0m\n\u001b[1;32m   1312\u001b[0m \u001b[38;5;124;03m        Fitted estimator.\u001b[39;00m\n\u001b[1;32m   1313\u001b[0m \u001b[38;5;124;03m    \"\"\"\u001b[39;00m\n\u001b[0;32m-> 1315\u001b[0m     \u001b[38;5;28;43msuper\u001b[39;49m\u001b[43m(\u001b[49m\u001b[43m)\u001b[49m\u001b[38;5;241;43m.\u001b[39;49m\u001b[43mfit\u001b[49m\u001b[43m(\u001b[49m\n\u001b[1;32m   1316\u001b[0m \u001b[43m        \u001b[49m\u001b[43mX\u001b[49m\u001b[43m,\u001b[49m\n\u001b[1;32m   1317\u001b[0m \u001b[43m        \u001b[49m\u001b[43my\u001b[49m\u001b[43m,\u001b[49m\n\u001b[1;32m   1318\u001b[0m \u001b[43m        \u001b[49m\u001b[43msample_weight\u001b[49m\u001b[38;5;241;43m=\u001b[39;49m\u001b[43msample_weight\u001b[49m\u001b[43m,\u001b[49m\n\u001b[1;32m   1319\u001b[0m \u001b[43m        \u001b[49m\u001b[43mcheck_input\u001b[49m\u001b[38;5;241;43m=\u001b[39;49m\u001b[43mcheck_input\u001b[49m\u001b[43m,\u001b[49m\n\u001b[1;32m   1320\u001b[0m \u001b[43m        \u001b[49m\u001b[43mX_idx_sorted\u001b[49m\u001b[38;5;241;43m=\u001b[39;49m\u001b[43mX_idx_sorted\u001b[49m\u001b[43m,\u001b[49m\n\u001b[1;32m   1321\u001b[0m \u001b[43m    \u001b[49m\u001b[43m)\u001b[49m\n\u001b[1;32m   1322\u001b[0m     \u001b[38;5;28;01mreturn\u001b[39;00m \u001b[38;5;28mself\u001b[39m\n",
      "File \u001b[0;32m~/virtual_environments/189env/lib/python3.8/site-packages/sklearn/tree/_classes.py:299\u001b[0m, in \u001b[0;36mBaseDecisionTree.fit\u001b[0;34m(self, X, y, sample_weight, check_input, X_idx_sorted)\u001b[0m\n\u001b[1;32m    296\u001b[0m \u001b[38;5;28mself\u001b[39m\u001b[38;5;241m.\u001b[39mmax_features_ \u001b[38;5;241m=\u001b[39m max_features\n\u001b[1;32m    298\u001b[0m \u001b[38;5;28;01mif\u001b[39;00m \u001b[38;5;28mlen\u001b[39m(y) \u001b[38;5;241m!=\u001b[39m n_samples:\n\u001b[0;32m--> 299\u001b[0m     \u001b[38;5;28;01mraise\u001b[39;00m \u001b[38;5;167;01mValueError\u001b[39;00m(\n\u001b[1;32m    300\u001b[0m         \u001b[38;5;124m\"\u001b[39m\u001b[38;5;124mNumber of labels=\u001b[39m\u001b[38;5;132;01m%d\u001b[39;00m\u001b[38;5;124m does not match number of samples=\u001b[39m\u001b[38;5;132;01m%d\u001b[39;00m\u001b[38;5;124m\"\u001b[39m\n\u001b[1;32m    301\u001b[0m         \u001b[38;5;241m%\u001b[39m (\u001b[38;5;28mlen\u001b[39m(y), n_samples)\n\u001b[1;32m    302\u001b[0m     )\n\u001b[1;32m    303\u001b[0m \u001b[38;5;28;01mif\u001b[39;00m \u001b[38;5;129;01mnot\u001b[39;00m \u001b[38;5;241m0\u001b[39m \u001b[38;5;241m<\u001b[39m\u001b[38;5;241m=\u001b[39m \u001b[38;5;28mself\u001b[39m\u001b[38;5;241m.\u001b[39mmin_weight_fraction_leaf \u001b[38;5;241m<\u001b[39m\u001b[38;5;241m=\u001b[39m \u001b[38;5;241m0.5\u001b[39m:\n\u001b[1;32m    304\u001b[0m     \u001b[38;5;28;01mraise\u001b[39;00m \u001b[38;5;167;01mValueError\u001b[39;00m(\u001b[38;5;124m\"\u001b[39m\u001b[38;5;124mmin_weight_fraction_leaf must in [0, 0.5]\u001b[39m\u001b[38;5;124m\"\u001b[39m)\n",
      "\u001b[0;31mValueError\u001b[0m: Number of labels=1358 does not match number of samples=57651"
     ]
    }
   ],
   "source": [
    "# we instantiate the parameters tree depth, noise mean normal parameter, and number of iterations used to emulate an expectation\n",
    "L           = 15\n",
    "h_sv        = 0.6*np.std(Y)\n",
    "S           = 100\n",
    "\n",
    "# derive the noise parameter\n",
    "[sure, s2_hat, df_hat] = tree_SURE(X, Y, [], L, h_sv, S)\n",
    "h           = 0.6*s2_hat**(1/2)\n",
    "\n",
    "# we instantiate a list of tree depth values from 1 to 15, and an empty expected risk table\n",
    "J_values   = [1, 2, 3, 4, 5, 6, 7, 8, 9, 10, 11, 12, 13, 14, 15]\n",
    "risk_table = np.zeros((len(J_values),2))\n",
    "\n",
    "# generate the expected risk for decision trees of different tree depths.                        \n",
    "m = 0                      \n",
    "for J in J_values:\n",
    "    [sure, _, _] = tree_SURE(X, Y, s2_hat, J, h, S)\n",
    "    risk_table[m,:] = [J, sure]\n",
    "    m += 1                  \n",
    "\n",
    "# plot the expectated risk vs. the tree depth \n",
    "fig = plt.figure()\n",
    "ax = plt.axes()\n",
    "ax.plot(risk_table[:,0], risk_table[:,1])"
   ]
  },
  {
   "cell_type": "markdown",
   "id": "880b66d5",
   "metadata": {},
   "source": [
    "### Question 6\n",
    "Fit the regression tree that minimizes SURE. Construct a contour plot of the resulting regression surface (you may adapt the code given above). Discuss your plot and what it suggests about the relationship between earnings and schooling and age in Brazil."
   ]
  },
  {
   "cell_type": "code",
   "execution_count": 18,
   "id": "40216370",
   "metadata": {},
   "outputs": [
    {
     "data": {
      "image/png": "[encoded data removed]",
      "text/plain": [
       "<Figure size 432x288 with 1 Axes>"
      ]
     },
     "metadata": {
      "needs_background": "light"
     },
     "output_type": "display_data"
    }
   ],
   "source": [
    "X = sample[['YRSSCH','AgeInDays']]\n",
    "Y = np.log(sample['MONTHLY_EARNINGS'])\n",
    "\n",
    "# Fit regression model\n",
    "regr_1 = tree.DecisionTreeRegressor(max_depth=6)\n",
    "regr_1.fit(X, Y)\n",
    "\n",
    "# Form interpolation grid upon which to plot estimated regression surface\n",
    "Sch_i, Age_i = np.mgrid[0:16, 20:100]\n",
    "Sch_i        = Sch_i.flatten('F')[:, np.newaxis]\n",
    "Age_i        = Age_i.flatten('F')[:, np.newaxis]\n",
    "X_i          = np.concatenate((Sch_i, Age_i ), axis=1)\n",
    "\n",
    "y_1 = regr_1.predict(X_i)\n",
    "\n",
    "Sch_i  = Sch_i.reshape((16, 80), order='F')\n",
    "Age_i  = Age_i.reshape((16, 80), order='F')\n",
    "y_1    = y_1.reshape((16, 80), order='F')\n",
    "\n",
    "# Create a 1 x 2 array of plots, with a contour representation of (i) the MLE regression surface\n",
    "# as well as (ii) its smoothed USE counterpart.\n",
    "plt.figure(1)\n",
    "surf_1    = plt.contourf(Sch_i, Age_i, y_1, cmap='Purples')\n",
    "surf_1_cl = plt.contour(surf_1,colors = 'Purple')\n",
    "plt.title('Surface (Max Depth = 6)')\n",
    "plt.xlabel('Years-of-Schooling')\n",
    "plt.ylabel('Age')\n",
    "\n",
    "# Save result\n",
    "plt.tight_layout()\n",
    "plt.savefig('Fig_RegressionTreeExample.png')"
   ]
  },
  {
   "cell_type": "markdown",
   "id": "67512548",
   "metadata": {},
   "source": [
    "## Part 2: Analysis of Nicarguan data\n",
    "This part of the problem set will use calorie consumption data from a sample of rural households in Nicargua. We are interested in the relationship between total household outlay and calorie consumption. Understanding the nature of food demand in low income settings has important implications for understanding the prevalence of hunger and for food policy. The article by Shankar Subramanian and Angus Deaton. (1996). \"The demand for food and calories,\" _Journal of Political Economy_ 104 (1): 133 - 162 provides a nice example of economics research in this area.\n",
    "\n",
    "The dataset includes several years of data. We will work with X0 and Y0, which correspond to household outlay (in Cordobas) per adult equivalent and calorie consumption per adult equivalent respectively in the base year of of the survey (2000). "
   ]
  },
  {
   "cell_type": "code",
   "execution_count": 2,
   "id": "e648c15c",
   "metadata": {},
   "outputs": [
    {
     "data": {
      "text/html": [
       "<div>\n",
       "<style scoped>\n",
       "    .dataframe tbody tr th:only-of-type {\n",
       "        vertical-align: middle;\n",
       "    }\n",
       "\n",
       "    .dataframe tbody tr th {\n",
       "        vertical-align: top;\n",
       "    }\n",
       "\n",
       "    .dataframe thead th {\n",
       "        text-align: right;\n",
       "    }\n",
       "</style>\n",
       "<table border=\"1\" class=\"dataframe\">\n",
       "  <thead>\n",
       "    <tr style=\"text-align: right;\">\n",
       "      <th></th>\n",
       "      <th>constant</th>\n",
       "      <th>X0</th>\n",
       "      <th>Y0</th>\n",
       "    </tr>\n",
       "  </thead>\n",
       "  <tbody>\n",
       "    <tr>\n",
       "      <th>0</th>\n",
       "      <td>1</td>\n",
       "      <td>8.819086</td>\n",
       "      <td>7.963177</td>\n",
       "    </tr>\n",
       "    <tr>\n",
       "      <th>1</th>\n",
       "      <td>1</td>\n",
       "      <td>6.889811</td>\n",
       "      <td>6.484601</td>\n",
       "    </tr>\n",
       "    <tr>\n",
       "      <th>2</th>\n",
       "      <td>1</td>\n",
       "      <td>6.650684</td>\n",
       "      <td>6.876681</td>\n",
       "    </tr>\n",
       "    <tr>\n",
       "      <th>3</th>\n",
       "      <td>1</td>\n",
       "      <td>6.909742</td>\n",
       "      <td>6.754492</td>\n",
       "    </tr>\n",
       "    <tr>\n",
       "      <th>4</th>\n",
       "      <td>1</td>\n",
       "      <td>8.034308</td>\n",
       "      <td>7.162158</td>\n",
       "    </tr>\n",
       "  </tbody>\n",
       "</table>\n",
       "</div>"
      ],
      "text/plain": [
       "   constant        X0        Y0\n",
       "0         1  8.819086  7.963177\n",
       "1         1  6.889811  6.484601\n",
       "2         1  6.650684  6.876681\n",
       "3         1  6.909742  6.754492\n",
       "4         1  8.034308  7.162158"
      ]
     },
     "execution_count": 2,
     "metadata": {},
     "output_type": "execute_result"
    }
   ],
   "source": [
    "calories = pd.read_csv('RPS_calorie_data.out', header = 0)\n",
    "calories['constant'] = 1\n",
    "calories[['constant','X0','Y0']][0:5]"
   ]
  },
  {
   "cell_type": "markdown",
   "id": "d39debe6",
   "metadata": {},
   "source": [
    "This first block of code fits a simple linear regression model to the calorie data."
   ]
  },
  {
   "cell_type": "code",
   "execution_count": 3,
   "id": "8b17882e",
   "metadata": {},
   "outputs": [
    {
     "name": "stdout",
     "output_type": "stream",
     "text": [
      "Coefficients: \n",
      " [1.87831534 0.68778462]\n"
     ]
    },
    {
     "data": {
      "image/png": "[encoded data removed]",
      "text/plain": [
       "<Figure size 432x288 with 1 Axes>"
      ]
     },
     "metadata": {},
     "output_type": "display_data"
    }
   ],
   "source": [
    "from sklearn import linear_model\n",
    "\n",
    "W = calories[['constant', 'X0']]\n",
    "Y = calories['Y0']\n",
    "\n",
    "# Create linear regression object\n",
    "regr = linear_model.LinearRegression(fit_intercept=False)\n",
    "\n",
    "# Fir the calorie demand model\n",
    "regr.fit(W, Y)\n",
    "\n",
    "# Compute fitted values\n",
    "calories_pred = regr.predict(W)\n",
    "\n",
    "# Print out the estimated regression coefficients\n",
    "print(\"Coefficients: \\n\", regr.coef_)\n",
    "\n",
    "# Plot fitted regression model\n",
    "plt.scatter(calories['X0'], calories['Y0'], color=\"#FDB515\")\n",
    "plt.plot(calories['X0'], calories_pred, color=\"#003262\", linewidth=3)\n",
    "\n",
    "plt.xticks(())\n",
    "plt.yticks(())\n",
    "\n",
    "plt.show()"
   ]
  },
  {
   "cell_type": "code",
   "execution_count": 17,
   "id": "704b9c9f",
   "metadata": {},
   "outputs": [
    {
     "data": {
      "text/plain": [
       "array([7.94394708, 6.6170214 , 6.45255353, ..., 8.20755361, 7.72726397,\n",
       "       7.61450581])"
      ]
     },
     "execution_count": 17,
     "metadata": {},
     "output_type": "execute_result"
    }
   ],
   "source": [
    "calories_pred"
   ]
  },
  {
   "cell_type": "markdown",
   "id": "3c44843c",
   "metadata": {},
   "source": [
    "### Question 7\n",
    "For this final questions, which is a long one, you will consider alternative series approximations of the the regression function for calories given total outlay. In the example above we considered a linear model. What about a model which is quadratic in outlay? Cubic? Quartic?   \n",
    "\n",
    "Write a function that computes the series regression of Y onto $1, X, X^2, \\ldots, X^{J-1}$ by least squares. Write a second function that compute Mallows $C_J$ risk estimate. Using these functions first compute a \"big\" model in order to construct a good estimate of $\\sigma^2$, the variance of the regression error. With this estimate in hand compute Mallows $C_J$ risk estimate for $J=1,2,3,\\ldots$.   \n",
    "\n",
    "Fit the model which minimizes estimated risk. Produce the corresponding scatter plot with the fitted curve overlayed. Discuss your results."
   ]
  },
  {
   "cell_type": "code",
   "execution_count": 66,
   "id": "23c23631",
   "metadata": {},
   "outputs": [
    {
     "name": "stdout",
     "output_type": "stream",
     "text": [
      "Our polynomial that gives lowest risk is with J = 5 of the order X^4 with risk value -60.94069495963591\n"
     ]
    },
    {
     "data": {
      "text/plain": [
       "<matplotlib.collections.PathCollection at 0x7f25bec350a0>"
      ]
     },
     "execution_count": 66,
     "metadata": {},
     "output_type": "execute_result"
    },
    {
     "data": {
      "image/png": "[encoded data removed]",
      "text/plain": [
       "<Figure size 432x288 with 1 Axes>"
      ]
     },
     "metadata": {
      "needs_background": "light"
     },
     "output_type": "display_data"
    }
   ],
   "source": [
    "from sklearn.linear_model import LinearRegression\n",
    "\n",
    "def series_of_unfortunate_regressors(J):\n",
    "    # Part 1: build training features\n",
    "    series_data = np.zeros((len(calories['X0']),J)) # initialize the rows and columns for 1, X, X^2, ..., X^(J-1)\n",
    "    for j in range(J):\n",
    "        series_data[:, j] = calories['X0'] ** j # changes X, elementwise, to the power of j from 0 to J-1, and adds to corresponding column in data\n",
    "\n",
    "    # Part 2: build linear regression on polynomial features, i.e. series regression\n",
    "    model = LinearRegression(fit_intercept=False).fit(X=series_data, y=calories['Y0']) # fit our polynomial training data to the training labels\n",
    "    training_predictions = model.predict(series_data) # predict values using our newly-built model and 'lifted' training data\n",
    "    # print(\"Coefficients: \\n\", model.get_params())\n",
    "    \n",
    "    return model, series_data, training_predictions\n",
    "\n",
    "def the_deathly_mallows(y_hats, J):\n",
    "    sigma_hat_sq = np.mean((y_hats - np.mean(calories['Y0']))**2)\n",
    "    sum_sq_resids = np.sum((calories['Y0'] - y_hats)**2)\n",
    "    return -len(calories['X0']) * sigma_hat_sq + sum_sq_resids + 2 * sigma_hat_sq * J\n",
    "\n",
    "min_risk = np.infty\n",
    "best_J = 0\n",
    "best_pred = None\n",
    "\n",
    "for i in [1,2,3,4,5,6,7,8]:    \n",
    "    series_regress = series_of_unfortunate_regressors(i)\n",
    "    risk = the_deathly_mallows(series_regress[2], i)\n",
    "    if risk < min_risk:\n",
    "        min_risk = risk\n",
    "        best_J = i\n",
    "        best_pred = series_regress[2]\n",
    "\n",
    "print(f'Our polynomial that gives lowest risk is with J = {best_J} of the order X^{best_J-1} with risk value {min_risk}')\n",
    "\n",
    "plt.scatter(calories['X0'], calories['Y0'], color=\"#FDB515\") # scatter the original training data and labels\n",
    "plt.scatter(calories['X0'], best_pred, color=\"#003262\") # scatter the original training data and labels"
   ]
  },
  {
   "cell_type": "code",
   "execution_count": null,
   "id": "1ae4c626",
   "metadata": {},
   "outputs": [],
   "source": []
  }
 ],
 "metadata": {
  "kernelspec": {
   "display_name": "Python 3",
   "language": "python",
   "name": "python3"
  },
  "language_info": {
   "codemirror_mode": {
    "name": "ipython",
    "version": 3
   },
   "file_extension": ".py",
   "mimetype": "text/x-python",
   "name": "python",
   "nbconvert_exporter": "python",
   "pygments_lexer": "ipython3",
   "version": "3.8.10"
  }
 },
 "nbformat": 4,
 "nbformat_minor": 5
}
